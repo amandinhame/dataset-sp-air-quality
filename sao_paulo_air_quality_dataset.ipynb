{
 "cells": [
  {
   "cell_type": "code",
   "execution_count": null,
   "metadata": {},
   "outputs": [],
   "source": [
    "import requests\n",
    "import datetime\n",
    "import math\n",
    "\n",
    "import pandas as pd\n",
    "import numpy as np\n",
    "\n",
    "from bs4 import BeautifulSoup"
   ]
  },
  {
   "cell_type": "code",
   "execution_count": null,
   "metadata": {},
   "outputs": [],
   "source": [
    "# Clean values inside the td tag\n",
    "def clean(v):\n",
    "    return v.replace('\\t', '').replace('\\r', '').replace('\\n', ' ').replace(u'\\xa0', '').replace('--', '')"
   ]
  },
  {
   "cell_type": "code",
   "execution_count": null,
   "metadata": {},
   "outputs": [],
   "source": [
    "# Check if value is nan or empty string\n",
    "def is_empty(v):\n",
    "    return (type(v) == float and math.isnan(v)) or (type(v) == str and len(v.strip()) == 0)"
   ]
  },
  {
   "cell_type": "code",
   "execution_count": null,
   "metadata": {},
   "outputs": [],
   "source": [
    "# Request the html page and webscrap for data\n",
    "# Returns a data frame\n",
    "def get_data(date, station):\n",
    "    \n",
    "    station_name = station.split('/')[1]\n",
    "    \n",
    "    date_str = date.strftime('%d/%m/%Y')\n",
    "\n",
    "    form_input = {'texData': f'{date_str}', 'selEst': f'{station}'}\n",
    "\n",
    "    page = requests.post(URL, data = form_input)\n",
    "\n",
    "    soup = BeautifulSoup(page.content, 'html.parser')\n",
    "    \n",
    "    parsed_data = {'Date': date_str, 'Station': station_name}\n",
    "\n",
    "    for table in soup.find_all('table', class_='font01')[1:]:\n",
    "        data = []\n",
    "        for tr in table.find_all('tr'):\n",
    "            tds = tr.find_all('td')\n",
    "            data.append(clean(tds[len(tds) - 1].text))\n",
    "\n",
    "        parsed_data[(data[0] + ' ' + data[1]).strip()] = data[2:]\n",
    "    \n",
    "    df = pd.DataFrame(parsed_data)\n",
    "    \n",
    "    # Filter empty rows\n",
    "    df = df[df.applymap(is_empty).sum(axis=1) < (df.shape[1] - 3)]\n",
    "    \n",
    "    return df"
   ]
  },
  {
   "cell_type": "code",
   "execution_count": null,
   "metadata": {},
   "outputs": [],
   "source": [
    "# Air quality url\n",
    "URL = 'https://sistemasinter.cetesb.sp.gov.br/Ar/php/ar_dados_horarios_resultado.php'"
   ]
  },
  {
   "cell_type": "code",
   "execution_count": null,
   "metadata": {},
   "outputs": [],
   "source": [
    "STATIONS = [\n",
    "    '65/Americana',\n",
    "    '72/Araçatuba',\n",
    "    '71/Araraquara',\n",
    "    '73/Bauru',\n",
    "    '42/Campinas-Centro',\n",
    "    '41/Campinas-Taquaral',\n",
    "    '43/Campinas-V.União',\n",
    "    '37/Capão Redondo',\n",
    "    '28/Carapicuíba',\n",
    "    '81/Catanduva',\n",
    "    '10/Cerqueira César',\n",
    "    '31/Cid.Universitária-USP-Ipen',\n",
    "    '8/Congonhas',\n",
    "    '24/Cubatão-Centro',\n",
    "    '25/Cubatão-V.Parisi',\n",
    "    '30/Cubatão-Vale do Mogi',\n",
    "    '15/Diadema',\n",
    "    '29/Grajaú-Parelheiros',\n",
    "    '62/Guaratinguetá',\n",
    "    '35/Guarulhos-Paço Municipal',\n",
    "    '40/Guarulhos-Pimentas',\n",
    "    '5/Ibirapuera',\n",
    "    '34/Interlagos',\n",
    "    '33/Itaim Paulista',\n",
    "    '50/Itaquera',\n",
    "    '54/Jacareí',\n",
    "    '75/Jaú',\n",
    "    '74/Jundiaí',\n",
    "    '64/Limeira',\n",
    "    '36/Marg.Tietê-Pte Remédios',\n",
    "    '76/Marília',\n",
    "    '22/Mauá',\n",
    "    '3/Mooca',\n",
    "    '6/N.Senhora do Ó',\n",
    "    '17/Osasco',\n",
    "    '1/Parque D.Pedro II',\n",
    "    '44/Paulínia',\n",
    "    '48/Paulínia-Sta Terezinha',\n",
    "    '66/Perus',\n",
    "    '39/Pico do Jaraguá',\n",
    "    '27/Pinheiros',\n",
    "    '77/Piracicaba',\n",
    "    '78/Presidente Prudente',\n",
    "    '84/Ribeirão Preto',\n",
    "    '59/Rio Claro-Jd.Guanabara',\n",
    "    '18/S.André-Capuava',\n",
    "    '38/S.Bernardo-Centro',\n",
    "    '19/S.Bernardo-Paulicéia',\n",
    "    '55/S.José Campos',\n",
    "    '56/S.José Campos-Jd.Satelite',\n",
    "    '57/S.José Campos-Vista Verde',\n",
    "    '53/Santa Gertrudes',\n",
    "    '2/Santana',\n",
    "    '16/Santo Amaro',\n",
    "    '82/Santos',\n",
    "    '83/Santos-Ponta da Praia',\n",
    "    '7/São Caetano do Sul',\n",
    "    '80/São José do Rio Preto',\n",
    "    '51/Sorocaba',\n",
    "    '20/Taboão da Serra',\n",
    "    '94/Tatuí',\n",
    "    '58/Taubaté'\n",
    "]"
   ]
  },
  {
   "cell_type": "code",
   "execution_count": null,
   "metadata": {},
   "outputs": [],
   "source": [
    "begin_date_str = '2013-05-08'\n",
    "end_date_str = '2020-04-30'"
   ]
  },
  {
   "cell_type": "code",
   "execution_count": null,
   "metadata": {},
   "outputs": [],
   "source": [
    "begin_date = datetime.datetime.strptime(begin_date_str, '%Y-%m-%d').date()\n",
    "end_date = datetime.datetime.strptime(end_date_str, '%Y-%m-%d').date()\n",
    "\n",
    "dates = pd.date_range(begin_date, end_date).tolist()"
   ]
  },
  {
   "cell_type": "code",
   "execution_count": null,
   "metadata": {},
   "outputs": [],
   "source": [
    "air_quality = pd.DataFrame(columns=[\n",
    "        'Date', \n",
    "        'Hora', \n",
    "        'Station', \n",
    "        'BENZENO ug/m3 Média Horária', \n",
    "        'CO ppm Índice / Qualidade',\n",
    "        'MP10 µg/m³ Índice / Qualidade',\n",
    "        'MP2.5 µg/m³ Índice / Qualidade', \n",
    "        'NO2 µg/m³ Índice / Qualidade',\n",
    "        'O3 µg/m³ Índice / Qualidade', \n",
    "        'SO2 µg/m³ Índice / Qualidade',\n",
    "        'TOLUENO ug/m3 Média Horária', \n",
    "        'TRS ppb Média Horária'])\n",
    "\n",
    "# Get data for all dates and stations\n",
    "for date in dates:\n",
    "    for station in STATIONS:\n",
    "        data = get_data(date.date(), station)\n",
    "        air_quality = air_quality.append(data, ignore_index=True)"
   ]
  },
  {
   "cell_type": "code",
   "execution_count": null,
   "metadata": {},
   "outputs": [],
   "source": [
    "# Rename columns and save\n",
    "air_quality.columns = [\n",
    "        'Date', \n",
    "        'Hour', \n",
    "        'Station', \n",
    "        'Benzene', \n",
    "        'CO',\n",
    "        'PM10',\n",
    "        'PM2.5', \n",
    "        'NO2',\n",
    "        'O3', \n",
    "        'SO2',\n",
    "        'Toluene', \n",
    "        'TRS']"
   ]
  },
  {
   "cell_type": "code",
   "execution_count": null,
   "metadata": {},
   "outputs": [],
   "source": [
    "def convert_float(v):\n",
    "    if type(v) == str and ',' in v:\n",
    "        return float(v.replace(',', '.'))\n",
    "    return v"
   ]
  },
  {
   "cell_type": "code",
   "execution_count": null,
   "metadata": {},
   "outputs": [],
   "source": [
    "# Convert date and time to a single field\n",
    "\n",
    "air_quality.loc[air_quality['Hour'] == '24:00', 'Hour'] = '00:00'\n",
    "\n",
    "air_quality['DatetimeStr'] = air_quality['Date'] + ' ' + air_quality['Hour']\n",
    "\n",
    "air_quality['Datetime'] = pd.to_datetime(air_quality['DatetimeStr'], format='%d/%m/%Y %H:%M')"
   ]
  },
  {
   "cell_type": "code",
   "execution_count": null,
   "metadata": {},
   "outputs": [],
   "source": [
    "final = air_quality[['Datetime', 'Station']]\n",
    "final[['Benzene', 'CO', 'PM10', 'PM2.5', 'NO2', 'O3', 'SO2', 'Toluene', 'TRS']] = air_quality[['Benzene', 'CO', 'PM10', 'PM2.5', 'NO2', 'O3', 'SO2', 'Toluene', 'TRS']].applymap(convert_float)"
   ]
  },
  {
   "cell_type": "code",
   "execution_count": null,
   "metadata": {},
   "outputs": [],
   "source": [
    "final.to_csv('data/sp_air_quality.csv', index=False)"
   ]
  }
 ],
 "metadata": {
  "kernelspec": {
   "display_name": "Python 3",
   "language": "python",
   "name": "python3"
  },
  "language_info": {
   "codemirror_mode": {
    "name": "ipython",
    "version": 3
   },
   "file_extension": ".py",
   "mimetype": "text/x-python",
   "name": "python",
   "nbconvert_exporter": "python",
   "pygments_lexer": "ipython3",
   "version": "3.7.6"
  },
  "toc": {
   "base_numbering": 1,
   "nav_menu": {},
   "number_sections": true,
   "sideBar": true,
   "skip_h1_title": false,
   "title_cell": "Table of Contents",
   "title_sidebar": "Contents",
   "toc_cell": false,
   "toc_position": {},
   "toc_section_display": true,
   "toc_window_display": true
  }
 },
 "nbformat": 4,
 "nbformat_minor": 4
}
